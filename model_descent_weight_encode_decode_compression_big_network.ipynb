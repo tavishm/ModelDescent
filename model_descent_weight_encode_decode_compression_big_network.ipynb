{
 "cells": [
  {
   "cell_type": "code",
   "execution_count": 1,
   "id": "Rlc2iOtbNxMB",
   "metadata": {
    "id": "Rlc2iOtbNxMB"
   },
   "outputs": [],
   "source": [
    "#!pip install datasets"
   ]
  },
  {
   "cell_type": "code",
   "execution_count": 2,
   "id": "329a74b6",
   "metadata": {
    "colab": {
     "base_uri": "https://localhost:8080/"
    },
    "id": "329a74b6",
    "outputId": "3ebe770e-e155-4d9a-a169-ef547a9e14de"
   },
   "outputs": [
    {
     "name": "stdout",
     "output_type": "stream",
     "text": [
      "cuda\n"
     ]
    }
   ],
   "source": [
    "## Please install torch and datasets\n",
    "import torch\n",
    "from torchvision.transforms import functional as t\n",
    "import torch.nn.functional as f\n",
    "from datasets import load_dataset\n",
    "import matplotlib.pyplot as plt\n",
    "\n",
    "device = 'cuda' if torch.cuda.is_available() else 'cpu'\n",
    "print(device)"
   ]
  },
  {
   "cell_type": "code",
   "execution_count": 3,
   "id": "0934cf3a",
   "metadata": {
    "id": "0934cf3a"
   },
   "outputs": [],
   "source": [
    "## Loading our dataset\n",
    "ds = load_dataset(\"ylecun/mnist\")"
   ]
  },
  {
   "cell_type": "code",
   "execution_count": 4,
   "id": "fb5cbf19",
   "metadata": {
    "id": "fb5cbf19"
   },
   "outputs": [],
   "source": [
    "## Data splits\n",
    "\n",
    "X_train_p = ds[\"train\"][\"image\"]\n",
    "Y_train = ds[\"train\"][\"label\"]\n",
    "X_test_p = ds[\"test\"][\"image\"]\n",
    "Y_test = ds[\"test\"][\"label\"]"
   ]
  },
  {
   "cell_type": "code",
   "execution_count": 5,
   "id": "3d0c8b78",
   "metadata": {
    "colab": {
     "base_uri": "https://localhost:8080/"
    },
    "id": "3d0c8b78",
    "outputId": "fa7568ff-42b2-488a-c914-37d068da6707"
   },
   "outputs": [
    {
     "name": "stdout",
     "output_type": "stream",
     "text": [
      "torch.Size([60000, 1, 28, 28]) torch.Size([10000, 1, 28, 28])\n"
     ]
    }
   ],
   "source": [
    "## PIL to Tensors\n",
    "\n",
    "X_train = [t.pil_to_tensor(x) for x in X_train_p]\n",
    "X_test = [t.pil_to_tensor(x) for x in X_test_p]\n",
    "X_train = torch.stack(X_train).to(device)\n",
    "X_test = torch.stack(X_test).to(device)\n",
    "print(X_train.shape, X_test.shape)"
   ]
  },
  {
   "cell_type": "code",
   "execution_count": 6,
   "id": "d32ba99f",
   "metadata": {
    "colab": {
     "base_uri": "https://localhost:8080/"
    },
    "id": "d32ba99f",
    "outputId": "d6b9fdd1-b141-4d0c-f63c-eb1833ecbaa2"
   },
   "outputs": [
    {
     "name": "stdout",
     "output_type": "stream",
     "text": [
      "torch.Size([60000, 28, 28]) torch.Size([10000, 28, 28])\n"
     ]
    }
   ],
   "source": [
    "## Fixing the shape\n",
    "\n",
    "X_train = X_train.view(-1, 28, 28)\n",
    "X_test = X_test.view(-1, 28, 28)\n",
    "print(X_train.shape, X_test.shape)"
   ]
  },
  {
   "cell_type": "code",
   "execution_count": 7,
   "id": "34acb755",
   "metadata": {
    "id": "34acb755"
   },
   "outputs": [],
   "source": [
    "## Making labels into tensors\n",
    "\n",
    "Y_train = torch.tensor(Y_train).to(device)\n",
    "Y_test = torch.tensor(Y_test).to(device)"
   ]
  },
  {
   "cell_type": "code",
   "execution_count": 8,
   "id": "5239aee9",
   "metadata": {
    "colab": {
     "base_uri": "https://localhost:8080/"
    },
    "id": "5239aee9",
    "outputId": "a7b8d46a-c476-4704-b77e-c3344066ccca"
   },
   "outputs": [
    {
     "name": "stdout",
     "output_type": "stream",
     "text": [
      "torch.Size([60000, 784]) torch.Size([10000, 784])\n"
     ]
    }
   ],
   "source": [
    "## Flattening the image as DNN takes flat tensor as input\n",
    "\n",
    "X_train = X_train.view(-1, 784).float() / 255.0\n",
    "X_test = X_test.view(-1, 784).float() / 255.0\n",
    "print(X_train.shape, X_test.shape)"
   ]
  },
  {
   "cell_type": "code",
   "execution_count": 9,
   "id": "sGEKSOBrVZxy",
   "metadata": {
    "id": "sGEKSOBrVZxy"
   },
   "outputs": [],
   "source": [
    "\n",
    "import numpy as np\n",
    "from numpy.linalg import svd\n",
    "\n",
    "\n",
    "\n",
    "class Linear():\n",
    "  def __init__(self, input_dims, output_dims, B=True, last=False):\n",
    "    self.training = True\n",
    "    self.W = (torch.randn(input_dims, output_dims) * (5/3) / (input_dims**0.5)).to(device) if not last else (torch.randn(input_dims, output_dims) * (5/3) / (input_dims**0.5) * 0.1).to(device)\n",
    "    if B: self.B = torch.randn(output_dims).to(device) if not last else (torch.randn(output_dims) * 0.1).to(device)\n",
    "    else: self.B = torch.tensor([]).to(device)\n",
    "\n",
    "  def __call__(self, x):\n",
    "    if not torch.equal(self.B, torch.tensor([]).to(device)): self.result = x@self.W + self.B\n",
    "    else: self.result = x@self.W\n",
    "    return self.result\n",
    "\n",
    "  def parameters(self):\n",
    "    return [self.W] + [self.B]\n",
    "\n",
    "\n",
    "class Tanh():\n",
    "  def __init__(self):\n",
    "    self.training = True\n",
    "    return None\n",
    "\n",
    "  def __call__(self, x):\n",
    "    self.result = torch.tanh(x)\n",
    "    return self.result\n",
    "\n",
    "  def parameters(self):\n",
    "    return []\n",
    "\n",
    "class Dropout():\n",
    "  def __init__(self, batch_size, output_dims, rate=0.9):\n",
    "    self.training = True\n",
    "    self.rate = rate\n",
    "    self.factor = (torch.rand(batch_size, output_dims) < self.rate).int().to(device)\n",
    "    return None\n",
    "\n",
    "  def __call__(self, x):\n",
    "    if self.training: self.result = x * self.factor\n",
    "    else: self.result = x\n",
    "    return self.result\n",
    "\n",
    "  def parameters(self):\n",
    "    return []\n",
    "\n",
    "\n",
    "def decomposition(A, k=1):\n",
    "\n",
    "    # SVD\n",
    "    U, S, VT = svd(A, full_matrices=False)\n",
    "\n",
    "\n",
    "    # Truncate to rank-k\n",
    "    U_k = U[:, :k]                # (784 x k)\n",
    "    S_k = np.diag(S[:k])          # (k x k)\n",
    "    VT_k = VT[:k, :]              # (k x 10)\n",
    "\n",
    "    # Factor A_k = L @ R, where L and R are low-rank factors\n",
    "    sqrt_S_k = np.sqrt(S_k)       # (k x k)\n",
    "    L = U_k @ sqrt_S_k            # (784 x k)\n",
    "    R = sqrt_S_k @ VT_k           # (k x 10)\n",
    "\n",
    "    L_flat = L.flatten()\n",
    "    R_flat = R.flatten()\n",
    "    LR_concat = np.concatenate([L_flat, R_flat])\n",
    "\n",
    "    return LR_concat\n"
   ]
  },
  {
   "cell_type": "code",
   "execution_count": null,
   "id": "PK1PLMxCWaM9",
   "metadata": {
    "colab": {
     "base_uri": "https://localhost:8080/"
    },
    "id": "PK1PLMxCWaM9",
    "outputId": "b2943435-c8dd-4304-a8d2-8d1c5dece336"
   },
   "outputs": [
    {
     "name": "stdout",
     "output_type": "stream",
     "text": [
      "Updater parameters: 6146560, Predictor parameters: 7840\n"
     ]
    }
   ],
   "source": [
    "batch_size = 60000\n",
    "\n",
    "mid_dims = 392\n",
    "\n",
    "W_u1 = (torch.randn(7840, mid_dims) * (5/3) / (7840**0.5)).to(device)\n",
    "W_u2 = (torch.randn(mid_dims, 7840) * (5/3) / (mid_dims**0.5)).to(device)\n",
    "W_p_t_1 = (torch.randn(784, 256) * (5/3) / (784**0.5)).to(device)\n",
    "W_p_t_2 = (torch.randn(256, 10) * (5/3) / (784**0.5)).to(device)\n",
    "\n",
    "W_u1.requires_grad = True\n",
    "W_u2.requires_grad = True\n",
    "W_p_t_1.requires_grad = False\n",
    "W_p_t_2.requires_grad = True\n",
    "\n",
    "updaterparams = [W_u1, W_u2]\n",
    "\n",
    "print(f\"Updater parameters: {W_u1.numel() + W_u2.numel()}, Predictor parameters: {W_p_t_1.numel() + W_p_t_2.numel()}\")\n",
    "\n",
    "losses = []"
   ]
  },
  {
   "cell_type": "code",
   "execution_count": null,
   "id": "8e298304",
   "metadata": {},
   "outputs": [],
   "source": [
    "## Training loop for updater and predictor\n",
    "iters = 4000\n",
    "alpha = 0.008\n",
    "\n",
    "for c in range(iters):\n",
    "    # Zero updater gradients\n",
    "    for p in updaterparams:\n",
    "        if p.grad is not None:\n",
    "            p.grad.zero_()\n",
    "\n",
    "    # Zero predictor gradients\n",
    "    if W_p_t_1.grad is not None:\n",
    "        W_p_t_1.grad.zero_()\n",
    "\n",
    "    W_p_t_detached = W_p_t_1.detach()\n",
    "    flat_W_p_t_detached = W_p_t_detached.view(-1)\n",
    "    x = torch.tanh(flat_W_p_t_detached @ W_u1)\n",
    "    flat_W_p_t_1 = torch.tanh(x @ W_u2)\n",
    "    W_p_t_1 = flat_W_p_t_1.view(784, 10)\n",
    "\n",
    "    Y_p_t_1 = torch.tanh(X_train @ W_p_t_1)\n",
    "    loss = f.cross_entropy(Y_p_t_1, Y_train)\n",
    "\n",
    "    loss.backward()\n",
    "\n",
    "    for p in updaterparams:\n",
    "        p.data -= alpha * p.grad\n",
    "\n",
    "    if c % (iters // 50) == 0:\n",
    "        print(f\"Iteration {c:4d}, Loss: {loss.item():.6f}\")\n",
    "        losses.append(loss.item())\n",
    "\n"
   ]
  },
  {
   "cell_type": "code",
   "execution_count": null,
   "id": "c7209328",
   "metadata": {},
   "outputs": [],
   "source": [
    "import os\n",
    "\n",
    "plt.figure(figsize=(8, 4))\n",
    "plt.plot(losses)\n",
    "plt.xlabel('Iteration')\n",
    "plt.ylabel('Loss')\n",
    "plt.title('Training Loss')\n",
    "\n",
    "# Get current notebook filename and save as PNG\n",
    "notebook_path = 'model_descent_weight_enc_dec_compression_3920_4000it'\n",
    "filename = os.path.splitext(notebook_path)[0] + '.png'\n",
    "plt.savefig(filename)\n",
    "plt.show()"
   ]
  },
  {
   "cell_type": "code",
   "execution_count": null,
   "id": "eadd2ac6",
   "metadata": {
    "colab": {
     "base_uri": "https://localhost:8080/"
    },
    "id": "eadd2ac6",
    "outputId": "3c2a48ec-2b57-421b-f6b6-6bb794d0ba23"
   },
   "outputs": [],
   "source": [
    "def accuracy(X, Y):\n",
    "    x = torch.tanh(X @ W_p_t_1)\n",
    "    probs = f.softmax(x, 1)\n",
    "    answers = x.argmax(1)\n",
    "    c = 0\n",
    "    for a, y in zip(answers, Y):\n",
    "        if a==y: c+=1\n",
    "    return c / answers.shape[0] * 100\n",
    "\n",
    "def loss(X, Y):\n",
    "    x = torch.tanh(X @ W_p_t_1)\n",
    "    return f.cross_entropy(x, Y)\n",
    "\n",
    "print(f\"train accuracy: {accuracy(X_train, Y_train)} | test accuracy: {accuracy(X_test, Y_test)}\")\n",
    "print(f\"train loss: {loss(X_train, Y_train)} | test loss: {loss(X_test, Y_test)}\")"
   ]
  },
  {
   "cell_type": "code",
   "execution_count": null,
   "id": "b349e18a",
   "metadata": {},
   "outputs": [
    {
     "name": "stdout",
     "output_type": "stream",
     "text": [
      "Updater parameters: 15366400, Predictor parameters: 7840\n"
     ]
    },
    {
     "name": "stderr",
     "output_type": "stream",
     "text": [
      "/tmp/ipykernel_2393471/1883365953.py:34: UserWarning: The .grad attribute of a Tensor that is not a leaf Tensor is being accessed. Its .grad attribute won't be populated during autograd.backward(). If you indeed want the .grad field to be populated for a non-leaf Tensor, use .retain_grad() on the non-leaf Tensor. If you access the non-leaf Tensor by mistake, make sure you access the leaf Tensor instead. See github.com/pytorch/pytorch/pull/30531 for more informations. (Triggered internally at aten/src/ATen/core/TensorBody.h:489.)\n",
      "  if W_p_t_1.grad is not None:\n"
     ]
    },
    {
     "name": "stdout",
     "output_type": "stream",
     "text": [
      "Found a solution in 2887 iterations with mid_dims = 980\n",
      "Updater parameters: 18439680, Predictor parameters: 7840\n",
      "Found a solution in 478 iterations with mid_dims = 1176\n",
      "Updater parameters: 21512960, Predictor parameters: 7840\n",
      "Found a solution in 636 iterations with mid_dims = 1372\n",
      "Updater parameters: 24586240, Predictor parameters: 7840\n",
      "Found a solution in 541 iterations with mid_dims = 1568\n",
      "Updater parameters: 27659520, Predictor parameters: 7840\n",
      "Found a solution in 455 iterations with mid_dims = 1764\n",
      "Updater parameters: 30732800, Predictor parameters: 7840\n",
      "Found a solution in 5859 iterations with mid_dims = 1960\n",
      "Updater parameters: 33806080, Predictor parameters: 7840\n",
      "Found a solution in 406 iterations with mid_dims = 2156\n",
      "Updater parameters: 36879360, Predictor parameters: 7840\n",
      "Found a solution in 4610 iterations with mid_dims = 2352\n",
      "Updater parameters: 39952640, Predictor parameters: 7840\n",
      "Found a solution in 739 iterations with mid_dims = 2548\n",
      "Updater parameters: 43025920, Predictor parameters: 7840\n",
      "Found a solution in 976 iterations with mid_dims = 2744\n",
      "Updater parameters: 46099200, Predictor parameters: 7840\n",
      "Found a solution in 821 iterations with mid_dims = 2940\n",
      "Updater parameters: 49172480, Predictor parameters: 7840\n",
      "Found a solution in 996 iterations with mid_dims = 3136\n",
      "Updater parameters: 52245760, Predictor parameters: 7840\n",
      "Couldn't find a solution in 6000 iterations\n",
      "Updater parameters: 55319040, Predictor parameters: 7840\n",
      "Couldn't find a solution in 6000 iterations\n",
      "Updater parameters: 58392320, Predictor parameters: 7840\n",
      "Found a solution in 562 iterations with mid_dims = 3724\n",
      "Updater parameters: 61465600, Predictor parameters: 7840\n",
      "Found a solution in 760 iterations with mid_dims = 3920\n",
      "Updater parameters: 64538880, Predictor parameters: 7840\n",
      "Found a solution in 2025 iterations with mid_dims = 4116\n",
      "Updater parameters: 67612160, Predictor parameters: 7840\n",
      "Found a solution in 3292 iterations with mid_dims = 4312\n",
      "Updater parameters: 70685440, Predictor parameters: 7840\n",
      "Found a solution in 1321 iterations with mid_dims = 4508\n",
      "Updater parameters: 73758720, Predictor parameters: 7840\n",
      "Found a solution in 637 iterations with mid_dims = 4704\n"
     ]
    }
   ],
   "source": [
    "# batch_size = 60000\n",
    "# #loss1iters = []\n",
    "\n",
    "\n",
    "# for midf in range(24, 34):\n",
    "#     mid_dims = (midf+1) * 196\n",
    "#     W_u1 = (torch.randn(7840, mid_dims) * (5/3) / (7840**0.5)).to(device)\n",
    "#     W_u2 = (torch.randn(mid_dims, 7840) * (5/3) / (mid_dims**0.5)).to(device)\n",
    "#     W_p_t_1 = (torch.randn(784, 10) * (5/3) / (784**0.5)).to(device)\n",
    "\n",
    "#     W_u1.requires_grad = True\n",
    "#     W_u2.requires_grad = True\n",
    "#     W_p_t_1.requires_grad = False\n",
    "\n",
    "#     updaterparams = [W_u1, W_u2]\n",
    "\n",
    "#     print(f\"Updater parameters: {W_u1.numel() + W_u2.numel()}, Predictor parameters: {W_p_t_1.numel()}\")\n",
    "\n",
    "#     losses = []\n",
    "\n",
    "#     ## Training loop for updater and predictor\n",
    "#     alpha = 0.008\n",
    "\n",
    "#     c = -1\n",
    "#     while True:\n",
    "#         c += 1\n",
    "\n",
    "#         # Zero updater gradients\n",
    "#         for p in updaterparams:\n",
    "#             if p.grad is not None:\n",
    "#                 p.grad.zero_()\n",
    "\n",
    "#         # Zero predictor gradients\n",
    "#         if W_p_t_1.grad is not None:\n",
    "#             W_p_t_1.grad.zero_()\n",
    "\n",
    "#         W_p_t_detached = W_p_t_1.detach()\n",
    "#         flat_W_p_t_detached = W_p_t_detached.view(-1)\n",
    "#         x = torch.tanh(flat_W_p_t_detached @ W_u1)\n",
    "#         flat_W_p_t_1 = torch.tanh(x @ W_u2)\n",
    "#         W_p_t_1 = flat_W_p_t_1.view(784, 10)\n",
    "\n",
    "#         Y_p_t_1 = torch.tanh(X_train @ W_p_t_1)\n",
    "#         loss = f.cross_entropy(Y_p_t_1, Y_train)\n",
    "\n",
    "#         loss.backward()\n",
    "\n",
    "#         for p in updaterparams:\n",
    "#             p.data -= alpha * p.grad\n",
    "\n",
    "#         if c>6000: \n",
    "#             print(\"Couldn't find a solution in 6000 iterations\")\n",
    "#             break\n",
    "#         if loss.item() < 1.05:\n",
    "#             print(\"Found a solution in\", c, \"iterations with mid_dims =\", mid_dims)\n",
    "#             loss1iters.append([mid_dims, c])\n",
    "#             break\n"
   ]
  },
  {
   "cell_type": "code",
   "execution_count": 15,
   "id": "701721ed",
   "metadata": {},
   "outputs": [
    {
     "data": {
      "image/png": "[encoded data removed]",
      "text/plain": [
       "<Figure size 600x400 with 1 Axes>"
      ]
     },
     "metadata": {},
     "output_type": "display_data"
    }
   ],
   "source": [
    "# Plotting loss1iters with (midf+1)*392 on x-axis and c on y-axis\n",
    "import matplotlib.pyplot as plt\n",
    "\n",
    "if loss1iters:\n",
    "    loss1iters_arr = np.array(loss1iters)\n",
    "    plt.figure(figsize=(6,4))\n",
    "    plt.plot(loss1iters_arr[:,0], loss1iters_arr[:,1], marker='o')\n",
    "    plt.xlabel('Mid Dims')\n",
    "    plt.ylabel('Iterations to reach loss < 1.0')\n",
    "    plt.title('Iterations vs. Hidden Layer Size')\n",
    "    plt.grid(True)\n",
    "    plt.show()\n",
    "else:\n",
    "    print(\"loss1iters is empty.\")"
   ]
  }
 ],
 "metadata": {
  "accelerator": "GPU",
  "colab": {
   "gpuType": "T4",
   "provenance": []
  },
  "kernelspec": {
   "display_name": "base",
   "language": "python",
   "name": "python3"
  },
  "language_info": {
   "codemirror_mode": {
    "name": "ipython",
    "version": 3
   },
   "file_extension": ".py",
   "mimetype": "text/x-python",
   "name": "python",
   "nbconvert_exporter": "python",
   "pygments_lexer": "ipython3",
   "version": "3.12.2"
  }
 },
 "nbformat": 4,
 "nbformat_minor": 5
}
